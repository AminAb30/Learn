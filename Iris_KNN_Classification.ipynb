{
  "nbformat": 4,
  "nbformat_minor": 0,
  "metadata": {
    "colab": {
      "provenance": [],
      "authorship_tag": "ABX9TyM7SxYf0Bo0+xEZ57NHR6KD",
      "include_colab_link": true
    },
    "kernelspec": {
      "name": "python3",
      "display_name": "Python 3"
    },
    "language_info": {
      "name": "python"
    }
  },
  "cells": [
    {
      "cell_type": "markdown",
      "metadata": {
        "id": "view-in-github",
        "colab_type": "text"
      },
      "source": [
        "<a href=\"https://colab.research.google.com/github/AminAb30/Learn/blob/main/Iris_KNN_Classification.ipynb\" target=\"_parent\"><img src=\"https://colab.research.google.com/assets/colab-badge.svg\" alt=\"Open In Colab\"/></a>"
      ]
    },
    {
      "cell_type": "code",
      "execution_count": null,
      "metadata": {
        "id": "HNb5epxEmx92"
      },
      "outputs": [],
      "source": []
    },
    {
      "cell_type": "code",
      "source": [
        "import pandas as pd\n",
        "import numpy as np\n",
        "from sklearn import datasets\n",
        "from sklearn.model_selection import train_test_split\n",
        "from sklearn.neighbors import KNeighborsClassifier\n",
        "from sklearn.metrics import accuracy_score\n",
        "from sklearn.preprocessing import StandardScaler\n",
        "#dataset = pd.read_csv(\"/content/sample_data/iris.data\", header=None ,\n",
        "#                      names=['sepal L', 'sepal w', 'petal L', ' petal w','label' ])\n",
        "#dataset.head(5)\n"
      ],
      "metadata": {
        "id": "Xq-mHOeAAOnr"
      },
      "execution_count": null,
      "outputs": []
    },
    {
      "cell_type": "code",
      "source": [
        "rows , cols = dataset.shape\n",
        "print('number of samples: {}, number of features: {}'.format(rows, cols))"
      ],
      "metadata": {
        "colab": {
          "base_uri": "https://localhost:8080/"
        },
        "id": "gJmsLs26Pdjp",
        "outputId": "0ed2b2d5-6d7b-47c7-81ae-afb65d66d8b8"
      },
      "execution_count": null,
      "outputs": [
        {
          "output_type": "stream",
          "name": "stdout",
          "text": [
            "number of samples: 150, number of features: 5\n"
          ]
        }
      ]
    },
    {
      "cell_type": "code",
      "source": [
        "def load_data():\n",
        "  data = dataset.iloc[:, :4]\n",
        "  label = dataset.iloc[:, 4]\n",
        "  x_train , x_test , y_train , y_test = train_test_split(data, label, test_size=0.2, random_state=10)\n",
        "  print(x_train.shape, x_test.shape, y_train.shape, y_test.shape)\n",
        "  return x_train, x_test, y_train, y_test\n",
        "\n",
        "x_train, x_test, y_train, y_test = load_data()"
      ],
      "metadata": {
        "colab": {
          "base_uri": "https://localhost:8080/"
        },
        "id": "K41tJ1DLP_1o",
        "outputId": "24ebad96-7d5b-4035-8eed-d3e6c14ef990"
      },
      "execution_count": null,
      "outputs": [
        {
          "output_type": "stream",
          "name": "stdout",
          "text": [
            "(120, 4) (30, 4) (120,) (30,)\n"
          ]
        }
      ]
    },
    {
      "cell_type": "code",
      "source": [
        "def traning():\n",
        "  clf = KNeighborsClassifier(9)\n",
        "  clf.fit(x_train, y_train)\n",
        "  return clf\n",
        "\n",
        "clf = traning()\n",
        "\n",
        "y_pred = clf.predict(x_test)\n",
        "\n",
        "acc = accuracy_score(y_test, y_pred)\n",
        "print('accuracy: {}'.format(acc*100))"
      ],
      "metadata": {
        "colab": {
          "base_uri": "https://localhost:8080/"
        },
        "id": "Tygd0UDwUjYy",
        "outputId": "c57417a3-493f-4420-81f8-43953c163788"
      },
      "execution_count": null,
      "outputs": [
        {
          "output_type": "stream",
          "name": "stdout",
          "text": [
            "accuracy: 100.0\n"
          ]
        }
      ]
    }
  ]
}